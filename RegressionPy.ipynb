{
 "cells": [
  {
   "cell_type": "markdown",
   "metadata": {},
   "source": [
    "# Linear Regression Analysis in Python"
   ]
  },
  {
   "cell_type": "markdown",
   "metadata": {},
   "source": [
    "This Jupyter notebook uses Python to do linear regression analysis on a set of *x*-*y* points and plot the result."
   ]
  },
  {
   "cell_type": "markdown",
   "metadata": {},
   "source": [
    "## I. Instructions"
   ]
  },
  {
   "cell_type": "markdown",
   "metadata": {},
   "source": [
    "Change the code cells as needed and run them by pressing \\<shift\\>-\\<enter\\> while the cursor is in the cell or the cell is highlighted."
   ]
  },
  {
   "cell_type": "markdown",
   "metadata": {},
   "source": [
    "## II. Code"
   ]
  },
  {
   "cell_type": "markdown",
   "metadata": {},
   "source": [
    "Run the cell below to load the Python libraries we will need to do the calculations."
   ]
  },
  {
   "cell_type": "code",
   "execution_count": null,
   "metadata": {},
   "outputs": [],
   "source": [
    "import numpy as np # Numerical calculations\n",
    "import matplotlib.pyplot as plt  # To graph results\n",
    "import pandas as pd  # To read data from a file\n",
    "import statsmodels.api as sm # To do the linear regression on directly entered data\n",
    "import statsmodels.formula.api as smf # To do the linear regression on data from a file."
   ]
  },
  {
   "cell_type": "markdown",
   "metadata": {},
   "source": [
    "Choose one of the two options below to read your data into this code. Only run the code from one of these options because each one you run will overwrite the data from the previous time you ran one.\n",
    "\n",
    "Option 1 is easier because you can just copy and paste your data into this notebook. Option 2 is better if you have a large data set."
   ]
  },
  {
   "cell_type": "markdown",
   "metadata": {},
   "source": [
    "### A. (Optional) Enter data directly"
   ]
  },
  {
   "cell_type": "markdown",
   "metadata": {},
   "source": [
    "Enter your *x* and *y* values inside the square brackets below, and run the commands in the cell to store your data into a data frame named `mydata`."
   ]
  },
  {
   "cell_type": "code",
   "execution_count": null,
   "metadata": {},
   "outputs": [],
   "source": [
    "x = np.array([1, 2, 3, 4, 5, 6])\n",
    "y = np.array([1, 4.02, 5.9, 8.11, 10.02, 11.99])\n",
    "mydata = pd.DataFrame({'xpts': x, 'ypts': y})"
   ]
  },
  {
   "cell_type": "markdown",
   "metadata": {},
   "source": [
    "Run the cell below to display the dataframe `mydata` so you can be sure it is correct."
   ]
  },
  {
   "cell_type": "code",
   "execution_count": null,
   "metadata": {},
   "outputs": [],
   "source": [
    "mydata"
   ]
  },
  {
   "cell_type": "markdown",
   "metadata": {},
   "source": [
    "If everything looks right, skip the Option 2 cells and go to the \"Do linear regression on data\" section."
   ]
  },
  {
   "cell_type": "markdown",
   "metadata": {},
   "source": [
    "### B. (Optional) Read data from CSV file"
   ]
  },
  {
   "cell_type": "markdown",
   "metadata": {},
   "source": [
    "Use this option if you have a large data set that you will import from a file. You must follow these steps to get your file onto the server running this notebook so you can import it.\n",
    "1. Save your x and y data to a CSV file. Excel running on Windows and Mac OS can export files to CSV. The CSV file should only have two columns: the x values and the y values.\n",
    "2. If you are running this notebook in Jupyter Lab, there is a file list on the left of the screen. Press the upload button (icon with up arrow beneath the menus) and upload your CSV file.\n",
    "3. If you are running this notebook in Jupyter Notebook, there is no file list pane on the left. Go to the browser tab or window with your file list and use the `Upload` button to upload your CSV file."
   ]
  },
  {
   "cell_type": "markdown",
   "metadata": {},
   "source": [
    "Change the file name in the following command to match the name of your CSV file, and run the cell to import your file into a data frame."
   ]
  },
  {
   "cell_type": "markdown",
   "metadata": {},
   "source": [
    "#### 1. Data file without column headers (names)"
   ]
  },
  {
   "cell_type": "markdown",
   "metadata": {},
   "source": [
    "The following command imports your CSV file correctly only if the file does not have column headers in it. If your file has column headers, skip this command and run the next one."
   ]
  },
  {
   "cell_type": "code",
   "execution_count": null,
   "metadata": {},
   "outputs": [],
   "source": [
    "mydata = pd.read_csv('datafile.csv', names=['xpts', 'ypts'])\n",
    "mydata"
   ]
  },
  {
   "cell_type": "markdown",
   "metadata": {},
   "source": [
    "#### 2. Data file that has column headers (names)"
   ]
  },
  {
   "cell_type": "markdown",
   "metadata": {},
   "source": [
    "Only run the cell below if your CSV file has column headers (names) in it. We are going to replace the names in your file with 'xpts' and 'ypts' because the rest of the commands in this notebook work using those names. \n",
    "\n",
    "(Feel free to use your column header names and change 'xpts' and 'ypts' to your names in the rest of this notebook.)"
   ]
  },
  {
   "cell_type": "code",
   "execution_count": null,
   "metadata": {},
   "outputs": [],
   "source": [
    "mydata = pd.read_csv('datafile.csv', names=['xpts', 'ypts'], header=0)\n",
    "mydata"
   ]
  },
  {
   "cell_type": "markdown",
   "metadata": {},
   "source": [
    "If everything looks right, go to the \"Do linear regression on data\" section below."
   ]
  },
  {
   "cell_type": "markdown",
   "metadata": {},
   "source": [
    "### C. Do linear regression on data"
   ]
  },
  {
   "cell_type": "markdown",
   "metadata": {},
   "source": [
    "Run the cell below to do a linear regression on the data you entered above. All of the information about the fit parameters is in the summary that these commands generate. We will get specific details below."
   ]
  },
  {
   "cell_type": "code",
   "execution_count": null,
   "metadata": {},
   "outputs": [],
   "source": [
    "linefit = smf.ols('ypts ~ xpts', data=mydata).fit()\n",
    "linefit.summary()"
   ]
  },
  {
   "cell_type": "markdown",
   "metadata": {},
   "source": [
    "Run the cell below to see the fit values of the intercept and slope."
   ]
  },
  {
   "cell_type": "code",
   "execution_count": null,
   "metadata": {},
   "outputs": [],
   "source": [
    "linefit.params"
   ]
  },
  {
   "cell_type": "markdown",
   "metadata": {},
   "source": [
    "Run the cell below to define the slope and intercept as `m` and `b`. (Recall $y=mx+b$.) We will need these for our regression plot."
   ]
  },
  {
   "cell_type": "code",
   "execution_count": null,
   "metadata": {},
   "outputs": [],
   "source": [
    "b = linefit.params[0]\n",
    "m = linefit.params[1]\n",
    "print('Slope and intercept defined.')\n",
    "print('m: ', m)\n",
    "print('b: ', b)"
   ]
  },
  {
   "cell_type": "markdown",
   "metadata": {},
   "source": [
    "Run the cell below to see the standard errors of the slope and intercepts from the fit. "
   ]
  },
  {
   "cell_type": "code",
   "execution_count": null,
   "metadata": {},
   "outputs": [],
   "source": [
    "linefit.bse"
   ]
  },
  {
   "cell_type": "markdown",
   "metadata": {},
   "source": [
    "Run the cell below to show T-test 5% confidence intervals for the fitted values of the intercept and slope. The first column in the table (labeled `0`) are the lower (2.5%) bounds, and the second column (labeled `1`) are the upper (97.5%) bounds."
   ]
  },
  {
   "cell_type": "code",
   "execution_count": null,
   "metadata": {},
   "outputs": [],
   "source": [
    "linefit.conf_int()"
   ]
  },
  {
   "cell_type": "markdown",
   "metadata": {},
   "source": [
    "Run the cell below to define the fit resifual standard error as `stderror`. We will use this value for the error bars of our plot."
   ]
  },
  {
   "cell_type": "code",
   "execution_count": null,
   "metadata": {},
   "outputs": [],
   "source": [
    "stderror = np.sqrt(linefit.mse_resid)\n",
    "stderror"
   ]
  },
  {
   "cell_type": "markdown",
   "metadata": {},
   "source": [
    "Run the cell below to show the R-squared value and the p-value for the fit."
   ]
  },
  {
   "cell_type": "code",
   "execution_count": null,
   "metadata": {},
   "outputs": [],
   "source": [
    "print('R-squared: ', linefit.rsquared)\n",
    "print('P-value (of F-statistic): ', linefit.f_pvalue)"
   ]
  },
  {
   "cell_type": "markdown",
   "metadata": {},
   "source": [
    "The cell below makes a very basic plot of the data and the fit line. We will make a nicer plot next."
   ]
  },
  {
   "cell_type": "code",
   "execution_count": null,
   "metadata": {},
   "outputs": [],
   "source": [
    "fig, ax = plt.subplots()\n",
    "mydata.plot('xpts', 'ypts', kind='scatter', ax=ax)\n",
    "ax.plot(mydata['xpts'], linefit.predict(exog=mydata['xpts']), '-k');"
   ]
  },
  {
   "cell_type": "markdown",
   "metadata": {},
   "source": [
    "The cell below produces a plot of the data points with error bars and the fit line. Change the axis limits and the axis labels in the cell to customize it for your data."
   ]
  },
  {
   "cell_type": "code",
   "execution_count": null,
   "metadata": {},
   "outputs": [],
   "source": [
    "fig, ax = plt.subplots()\n",
    "ax.errorbar(mydata.xpts, mydata.ypts, yerr=stderror, fmt='.k', capsize=5)\n",
    "\n",
    "# Set axis limits below.\n",
    "ax.set_xlim([0, 7])\n",
    "ax.set_ylim([0, 15])\n",
    "\n",
    "# Set axis labels below.\n",
    "ax.set_xlabel('xpts')\n",
    "ax.set_ylabel('ypts')\n",
    "\n",
    "# Plot the fit line for all x values.\n",
    "ax.plot(ax.get_xlim(), linefit.predict(exog=dict(xpts=ax.get_xlim())), '-k');"
   ]
  },
  {
   "cell_type": "markdown",
   "metadata": {},
   "source": [
    "Run the cell below to save the plot on the server running this notebook. Change the file name to whatever you want. Change the extension to change the file type. Some allowed file types include jpg, png, svf, pdf, and eps.\n",
    "\n",
    "If you are using a mobile device, you can save an image of the plot by pressing and holding on the plot above and choosing to save it (to your photos or wherever you can access it)."
   ]
  },
  {
   "cell_type": "code",
   "execution_count": null,
   "metadata": {},
   "outputs": [],
   "source": [
    "fig.savefig('plot.pdf')"
   ]
  },
  {
   "cell_type": "code",
   "execution_count": null,
   "metadata": {},
   "outputs": [],
   "source": []
  }
 ],
 "metadata": {
  "kernelspec": {
   "display_name": "Python 3",
   "language": "python",
   "name": "python3"
  },
  "language_info": {
   "codemirror_mode": {
    "name": "ipython",
    "version": 3
   },
   "file_extension": ".py",
   "mimetype": "text/x-python",
   "name": "python",
   "nbconvert_exporter": "python",
   "pygments_lexer": "ipython3",
   "version": "3.7.6"
  }
 },
 "nbformat": 4,
 "nbformat_minor": 4
}
